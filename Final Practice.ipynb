{
 "cells": [
  {
   "cell_type": "markdown",
   "metadata": {},
   "source": [
    "# String"
   ]
  },
  {
   "cell_type": "code",
   "execution_count": 8,
   "metadata": {},
   "outputs": [
    {
     "name": "stdout",
     "output_type": "stream",
     "text": [
      "Manish\n"
     ]
    }
   ],
   "source": [
    "s = \"Manish\"         # Value assignment\n",
    "print(s)"
   ]
  },
  {
   "cell_type": "code",
   "execution_count": 12,
   "metadata": {},
   "outputs": [
    {
     "name": "stdout",
     "output_type": "stream",
     "text": [
      "My name is manish yadav \n",
      "we are going somewhere\n"
     ]
    }
   ],
   "source": [
    "# Multiline value assignment\n",
    "a = '''My name is manish yadav      \n",
    "we are going somewhere'''\n",
    "\n",
    "print(a)"
   ]
  },
  {
   "cell_type": "code",
   "execution_count": 14,
   "metadata": {},
   "outputs": [
    {
     "name": "stdout",
     "output_type": "stream",
     "text": [
      "llo \n"
     ]
    }
   ],
   "source": [
    "a = \"Hello world\"        # String slicing on index \n",
    "print(a[2:6])"
   ]
  },
  {
   "cell_type": "code",
   "execution_count": 15,
   "metadata": {},
   "outputs": [
    {
     "data": {
      "text/plain": [
       "14"
      ]
     },
     "execution_count": 15,
     "metadata": {},
     "output_type": "execute_result"
    }
   ],
   "source": [
    "m = \"Name is Manish\"     # length of string, it also count white spaces\n",
    "len(m)"
   ]
  },
  {
   "cell_type": "code",
   "execution_count": 16,
   "metadata": {},
   "outputs": [
    {
     "name": "stdout",
     "output_type": "stream",
     "text": [
      "b\n",
      "a\n",
      "n\n",
      "a\n",
      "n\n",
      "a\n"
     ]
    }
   ],
   "source": [
    "for x in \"banana\":      # Looping in string\n",
    "    print(x)"
   ]
  },
  {
   "cell_type": "code",
   "execution_count": 20,
   "metadata": {},
   "outputs": [
    {
     "name": "stdout",
     "output_type": "stream",
     "text": [
      "True\n"
     ]
    }
   ],
   "source": [
    "txt = \"I am manish yadav and want to explore the world\"         #Check anything in string\n",
    "print(\"explore\" in txt)"
   ]
  },
  {
   "cell_type": "code",
   "execution_count": 85,
   "metadata": {
    "scrolled": true
   },
   "outputs": [
    {
     "name": "stdout",
     "output_type": "stream",
     "text": [
      "True\n"
     ]
    }
   ],
   "source": [
    "txt = \"I am manish yadav and want to explore the world\"         #Check anything in string (Using NOT)\n",
    "print(\"Explore\" not in txt)"
   ]
  },
  {
   "cell_type": "code",
   "execution_count": 25,
   "metadata": {},
   "outputs": [
    {
     "name": "stdout",
     "output_type": "stream",
     "text": [
      "Yes, 'manish' is present\n"
     ]
    }
   ],
   "source": [
    "txt = \"I am manish yadav and want to explore the world\"         #Check anything in string (using IF)\n",
    "if \"manish\" in txt:\n",
    "    print(\"Yes, 'manish' is present\")"
   ]
  },
  {
   "cell_type": "markdown",
   "metadata": {},
   "source": [
    "## String Slicing"
   ]
  },
  {
   "cell_type": "code",
   "execution_count": 29,
   "metadata": {},
   "outputs": [
    {
     "name": "stdout",
     "output_type": "stream",
     "text": [
      "l\n"
     ]
    }
   ],
   "source": [
    "a = \"Hello world\"\n",
    "print(a[3])"
   ]
  },
  {
   "cell_type": "code",
   "execution_count": 37,
   "metadata": {},
   "outputs": [
    {
     "name": "stdout",
     "output_type": "stream",
     "text": [
      "llo worl\n"
     ]
    },
    {
     "data": {
      "text/plain": [
       "11"
      ]
     },
     "execution_count": 37,
     "metadata": {},
     "output_type": "execute_result"
    }
   ],
   "source": [
    "a = \"Hello world\"                \n",
    "print(a[2:10])\n",
    "len(a)"
   ]
  },
  {
   "cell_type": "code",
   "execution_count": 5,
   "metadata": {},
   "outputs": [
    {
     "name": "stdout",
     "output_type": "stream",
     "text": [
      "wor\n"
     ]
    }
   ],
   "source": [
    "a = \"Hello world\"        # Negative indexing \n",
    "print(a[-5:-2])"
   ]
  },
  {
   "cell_type": "code",
   "execution_count": 13,
   "metadata": {},
   "outputs": [
    {
     "name": "stdout",
     "output_type": "stream",
     "text": [
      " HELLO WORLD\n",
      " hello world\n",
      "Hello World\n",
      "[' He', '', 'o Wor', 'd']\n",
      " Fello World\n",
      "3\n"
     ]
    }
   ],
   "source": [
    "a = \" Hello World\"       # String methods\n",
    "print(a.upper())\n",
    "print(a.lower())\n",
    "print(a.strip())\n",
    "print(a.split('l'))\n",
    "print(a.replace('H','F'))\n",
    "print(a.count('l'))"
   ]
  },
  {
   "cell_type": "code",
   "execution_count": 16,
   "metadata": {},
   "outputs": [
    {
     "name": "stdout",
     "output_type": "stream",
     "text": [
      "Hello World\n"
     ]
    }
   ],
   "source": [
    "a = \"Hello\"             # String Concatination\n",
    "b = \" World\"\n",
    "c = a + b\n",
    "print(c)"
   ]
  },
  {
   "cell_type": "code",
   "execution_count": 18,
   "metadata": {},
   "outputs": [
    {
     "name": "stdout",
     "output_type": "stream",
     "text": [
      "My name is John, I am 36 \n"
     ]
    }
   ],
   "source": [
    "age = 36                               # Format string \n",
    "txt = \"My name is John, I am {} \"\n",
    "print(txt.format(age))"
   ]
  },
  {
   "cell_type": "code",
   "execution_count": 22,
   "metadata": {},
   "outputs": [
    {
     "name": "stdout",
     "output_type": "stream",
     "text": [
      "I want 3 pieces of item 567 for 49.95 rupees.\n"
     ]
    }
   ],
   "source": [
    "quantity = 3\n",
    "itemno = 567\n",
    "price = 49.95\n",
    "myorder = \"I want {} pieces of item {} for {} rupees.\"\n",
    "print(myorder.format(quantity, itemno, price))"
   ]
  },
  {
   "cell_type": "markdown",
   "metadata": {},
   "source": [
    "# List"
   ]
  },
  {
   "cell_type": "code",
   "execution_count": 25,
   "metadata": {},
   "outputs": [
    {
     "name": "stdout",
     "output_type": "stream",
     "text": [
      "[2, 5, 40, 2.5, 'mani', 'ravi']\n"
     ]
    }
   ],
   "source": [
    "li = [2,5,40, 2.5,'mani','ravi']          # List contains different types of data\n",
    "print(li)"
   ]
  },
  {
   "cell_type": "code",
   "execution_count": 28,
   "metadata": {},
   "outputs": [
    {
     "name": "stdout",
     "output_type": "stream",
     "text": [
      "[2, 5, 40, 2.5, 'mani', 'ravi', 2, 5]\n",
      "8\n"
     ]
    }
   ],
   "source": [
    "li = [2,5,40, 2.5,'mani','ravi', 2,5]          # List allows duplicate values\n",
    "print(li)\n",
    "\n",
    "print(len(li))  # Length of list"
   ]
  },
  {
   "cell_type": "code",
   "execution_count": 45,
   "metadata": {},
   "outputs": [
    {
     "name": "stdout",
     "output_type": "stream",
     "text": [
      "[2, 5, 8, 9, 15]\n",
      "[2.5, 1.5, 7.6]\n",
      "['manish', 'ravi', 'anish']\n",
      "[[2, 5, 8, 9, 15], [2.5, 1.5, 7.6], ['manish', 'ravi', 'anish']]\n",
      "[[2, 5, 8, 9, 15, 2.5, 1.5, 7.6]]\n"
     ]
    }
   ],
   "source": [
    "li1 = [2,5,8,9,15]                  \n",
    "li2 = [2.5,1.5,7.6]\n",
    "li3 = ['manish','ravi','anish']\n",
    "li4 = [li1,li2,li3]                   # Lists can contain list of lists\n",
    "li5 = [li1 + li2]                     # Join 2 lists\n",
    "\n",
    "\n",
    "print(li1)\n",
    "print(li2)\n",
    "print(li3)\n",
    "print(li4)\n",
    "print(li5)"
   ]
  },
  {
   "cell_type": "code",
   "execution_count": 60,
   "metadata": {},
   "outputs": [
    {
     "name": "stdout",
     "output_type": "stream",
     "text": [
      "[2, 5, 6.9, 'mankind']\n",
      "<class 'list'>\n"
     ]
    }
   ],
   "source": [
    "# List can be created using list constructor\n",
    "\n",
    "li = list((2,5,6.9,'mankind'))       # Note the double round brackets\n",
    "print(li)\n",
    "print(type(li))"
   ]
  },
  {
   "cell_type": "code",
   "execution_count": 36,
   "metadata": {},
   "outputs": [
    {
     "name": "stdout",
     "output_type": "stream",
     "text": [
      "[40, 2.5, 'mani', 'ravi']\n"
     ]
    }
   ],
   "source": [
    "li = [2,5,40, 2.5,'mani','ravi']          # We can access list items using index\n",
    "print(li[2:6])"
   ]
  },
  {
   "cell_type": "code",
   "execution_count": 38,
   "metadata": {},
   "outputs": [
    {
     "name": "stdout",
     "output_type": "stream",
     "text": [
      "Yes, 2.5 is present\n"
     ]
    }
   ],
   "source": [
    "li = [2,5,40, 2.5,'mani','ravi']          # Check items in list\n",
    "if 2.5 in li:\n",
    "    print('Yes, 2.5 is present')"
   ]
  },
  {
   "cell_type": "code",
   "execution_count": 41,
   "metadata": {},
   "outputs": [
    {
     "name": "stdout",
     "output_type": "stream",
     "text": [
      "2\n",
      "5\n",
      "40\n",
      "2.5\n",
      "mani\n",
      "ravi\n"
     ]
    }
   ],
   "source": [
    "li = [2,5,40, 2.5,'mani','ravi']          # Loop through a list\n",
    "for i in li:\n",
    "    print(i)"
   ]
  },
  {
   "cell_type": "markdown",
   "metadata": {},
   "source": [
    "### List Comprehension"
   ]
  },
  {
   "cell_type": "code",
   "execution_count": 44,
   "metadata": {},
   "outputs": [
    {
     "name": "stdout",
     "output_type": "stream",
     "text": [
      "['banana', 'mango']\n"
     ]
    }
   ],
   "source": [
    "fruits = [\"apple\", \"banana\", \"cherry\", \"kiwi\", \"mango\"]\n",
    "newlist = []\n",
    "\n",
    "for x in fruits:\n",
    "    if \"n\" in x:                  # if n is present in the element then\n",
    "        newlist.append(x)         # append the element in the new list\n",
    "\n",
    "print(newlist)\n"
   ]
  },
  {
   "cell_type": "markdown",
   "metadata": {},
   "source": [
    "# Tuples"
   ]
  },
  {
   "cell_type": "code",
   "execution_count": 46,
   "metadata": {},
   "outputs": [
    {
     "name": "stdout",
     "output_type": "stream",
     "text": [
      "('apple', 'banana', 'cherry')\n"
     ]
    }
   ],
   "source": [
    "a = (\"apple\", \"banana\", \"cherry\")       \n",
    "print(a)"
   ]
  },
  {
   "cell_type": "code",
   "execution_count": 48,
   "metadata": {},
   "outputs": [
    {
     "name": "stdout",
     "output_type": "stream",
     "text": [
      "('apple', 'banana', 'cherry', 'apple', 'cherry')\n"
     ]
    },
    {
     "data": {
      "text/plain": [
       "5"
      ]
     },
     "execution_count": 48,
     "metadata": {},
     "output_type": "execute_result"
    }
   ],
   "source": [
    "a = (\"apple\", \"banana\", \"cherry\", \"apple\", \"cherry\")         # Tuples allows duplicate values\n",
    "print(a)\n",
    "\n",
    "len(a)                     # to find the  length of tuples"
   ]
  },
  {
   "cell_type": "code",
   "execution_count": 72,
   "metadata": {},
   "outputs": [
    {
     "name": "stdout",
     "output_type": "stream",
     "text": [
      "('abc', 34, True, 40, 'male')\n",
      "40\n"
     ]
    }
   ],
   "source": [
    "tup1 = (\"abc\", 34, True, 40, \"male\")            # Tuples contain different type of data\n",
    "\n",
    "print(tup1)\n",
    "print(tup1[3])                   # We can access tuples items using index"
   ]
  },
  {
   "cell_type": "code",
   "execution_count": 53,
   "metadata": {},
   "outputs": [
    {
     "name": "stdout",
     "output_type": "stream",
     "text": [
      "abc\n",
      "34\n",
      "True\n",
      "40\n",
      "male\n"
     ]
    }
   ],
   "source": [
    "# Looping in tuples\n",
    "tup1 = (\"abc\", 34, True, 40, \"male\")\n",
    "\n",
    "for i in tup1:\n",
    "    print(i)"
   ]
  },
  {
   "cell_type": "code",
   "execution_count": 57,
   "metadata": {},
   "outputs": [
    {
     "name": "stdout",
     "output_type": "stream",
     "text": [
      "Yes, number is present\n"
     ]
    }
   ],
   "source": [
    "tup1 = (\"abc\", 34, True, 40, \"male\")            # Check element is present\n",
    "if 34 in tup1:\n",
    "    print(\"Yes, number is present\")"
   ]
  },
  {
   "cell_type": "code",
   "execution_count": 59,
   "metadata": {},
   "outputs": [
    {
     "name": "stdout",
     "output_type": "stream",
     "text": [
      "(2, 5, 6.9, 'mankind')\n",
      "<class 'tuple'>\n"
     ]
    }
   ],
   "source": [
    "# Tuples can be created using tuple constructor\n",
    "\n",
    "tup2 = tuple((2,5,6.9,'mankind'))       # Note the double round brackets\n",
    "print(tup2)\n",
    "print(type(tup2))"
   ]
  },
  {
   "cell_type": "markdown",
   "metadata": {},
   "source": [
    "# Set"
   ]
  },
  {
   "cell_type": "code",
   "execution_count": 51,
   "metadata": {},
   "outputs": [
    {
     "name": "stdout",
     "output_type": "stream",
     "text": [
      "{'apple', 'cherry', 'banana'}\n",
      "3\n"
     ]
    }
   ],
   "source": [
    "a= {\"apple\", \"banana\", \"cherry\", \"apple\"}         # Set not allows duplicate items\n",
    "\n",
    "print(a)\n",
    "print(len(a))                                     # length of set"
   ]
  },
  {
   "cell_type": "code",
   "execution_count": 74,
   "metadata": {},
   "outputs": [
    {
     "name": "stdout",
     "output_type": "stream",
     "text": [
      "{True, 34, 'male', 40, 'abc'}\n"
     ]
    }
   ],
   "source": [
    "set1 = {\"abc\", 34, True, 40, \"male\"}             # Tuples contain different type of data\n",
    "\n",
    "print(set1)\n",
    "#print(set1[1])   ------- # We can not access set items using index"
   ]
  },
  {
   "cell_type": "code",
   "execution_count": 54,
   "metadata": {},
   "outputs": [
    {
     "name": "stdout",
     "output_type": "stream",
     "text": [
      "True\n",
      "34\n",
      "male\n",
      "40\n",
      "abc\n"
     ]
    }
   ],
   "source": [
    "# Looping in sets\n",
    "set1 = {\"abc\", 34, True, 40, \"male\"}\n",
    "\n",
    "for i in set1:\n",
    "    print(i)"
   ]
  },
  {
   "cell_type": "code",
   "execution_count": 56,
   "metadata": {},
   "outputs": [
    {
     "name": "stdout",
     "output_type": "stream",
     "text": [
      "Yes, abc is present\n"
     ]
    }
   ],
   "source": [
    "set1 = {\"abc\", 34, True, 40, \"male\"}           # Check element is present\n",
    "if \"abc\" in set1:\n",
    "    print(\"Yes, abc is present\")"
   ]
  },
  {
   "cell_type": "code",
   "execution_count": 61,
   "metadata": {},
   "outputs": [
    {
     "name": "stdout",
     "output_type": "stream",
     "text": [
      "{'mankind', 2, 5, 6.9}\n",
      "<class 'set'>\n"
     ]
    }
   ],
   "source": [
    "# Set can be created using set constructor\n",
    "\n",
    "set2 = set((2,5,6.9,'mankind'))       # Note the double round brackets\n",
    "print(set2)\n",
    "print(type(set2))"
   ]
  },
  {
   "cell_type": "markdown",
   "metadata": {},
   "source": [
    "### Important points in set\n",
    "\n",
    "1. We can perform operation such as Add set items, Add sets, Remove set items using different methods.\n",
    "2. We can add sets with other iterables like List, Tuples, Dictionaries.\n",
    "\n",
    "#### Syntax for the same is as below:\n",
    "\n",
    " Set_name.update(iterable_name)\n",
    " \n",
    " print(set_name)"
   ]
  },
  {
   "cell_type": "markdown",
   "metadata": {},
   "source": [
    "# Dictionary"
   ]
  },
  {
   "cell_type": "code",
   "execution_count": 10,
   "metadata": {},
   "outputs": [
    {
     "name": "stdout",
     "output_type": "stream",
     "text": [
      "anish\n",
      "nisha\n",
      "3\n",
      "Not found\n"
     ]
    }
   ],
   "source": [
    "\n",
    "d = {1:'Manish', 2:'anish', 4:'nisha'}               # Dictionary contains Keys and values using colons(:)\n",
    "print(d[2])\n",
    "print(d[4])\n",
    "print(len(d))\n",
    "print(d.get(3, 'Not found'))          # if we dont have any key,this way we can return NOT FOUND"
   ]
  },
  {
   "cell_type": "code",
   "execution_count": 92,
   "metadata": {},
   "outputs": [
    {
     "name": "stdout",
     "output_type": "stream",
     "text": [
      "{'Manish': 'Python', 'Anish': 'Java', 'Nisha': 'Parlour', 'Manisha': 'Nurse'}\n"
     ]
    },
    {
     "data": {
      "text/plain": [
       "'Python'"
      ]
     },
     "execution_count": 92,
     "metadata": {},
     "output_type": "execute_result"
    }
   ],
   "source": [
    "keys = ['Manish', 'Anish','Nisha','Manisha']\n",
    "values = ['Python','Java','Parlour','Nurse']\n",
    "\n",
    "data = dict(zip(keys,values))       # Creating dictionary having name data using 2 list as keys & values\n",
    "print(data)\n",
    "\n",
    "data['Manish']                 # Accessing values using keys\n"
   ]
  },
  {
   "cell_type": "markdown",
   "metadata": {},
   "source": [
    "### Notes : Dictionary\n",
    "\n",
    "1. Dictionaries are changeable, meaning that we can change, add or remove items after the dictionary has been created.\n",
    "2. As of Python version 3.7, dictionaries are ORDERED. In Python 3.6 and earlier, dictionaries are UNORDERED.\n",
    "3. Dictionaries cannot have two items with the same key: (Item Duplication not allowed)"
   ]
  },
  {
   "cell_type": "code",
   "execution_count": 15,
   "metadata": {},
   "outputs": [
    {
     "data": {
      "text/plain": [
       "{1: 'Manish', 2: 'anish', 4: 'nisha', 3: 'Moti'}"
      ]
     },
     "execution_count": 15,
     "metadata": {},
     "output_type": "execute_result"
    }
   ],
   "source": [
    "data1 = {1:'Manish', 2:'anish', 4:'nisha'}\n",
    "data1[3] = 'Moti'\n",
    "data1"
   ]
  },
  {
   "cell_type": "code",
   "execution_count": 13,
   "metadata": {},
   "outputs": [
    {
     "name": "stdout",
     "output_type": "stream",
     "text": [
      "['khoya', 'rabdi', 'namkeen']\n",
      "rabdi\n",
      "{'morn': 'bread', 'noon': 'lunch', 'evening': 'salad'}\n",
      "salad\n"
     ]
    }
   ],
   "source": [
    "feast = {'mani':'puri bhaji','moti':'paav bhaji','nisha':['khoya','rabdi','namkeen'],'anish': {'morn':'bread',\n",
    "             'noon':'lunch','evening':'salad'}}\n",
    "\n",
    "print(feast['nisha'])             # printing list as a value\n",
    "print(feast['nisha'][1])          # printing values of list using index\n",
    "print(feast['anish'])            # printing dictionary as a value\n",
    "print(feast['anish']['evening'])    # printing value of a dictionary value"
   ]
  },
  {
   "cell_type": "code",
   "execution_count": 6,
   "metadata": {},
   "outputs": [
    {
     "name": "stdout",
     "output_type": "stream",
     "text": [
      "{1: 'Manish', 2: 'anish', 4: 'nisha', 3: 'Moti'}\n",
      "dict_keys([1, 2, 4, 3])\n",
      "dict_values(['Manish', 'anish', 'nisha', 'Moti'])\n",
      "dict_items([(1, 'Manish'), (2, 'anish'), (4, 'nisha'), (3, 'Moti')])\n"
     ]
    }
   ],
   "source": [
    "num = {1: 'Manish', 2: 'anish', 4: 'nisha', 3: 'Moti'}\n",
    "\n",
    "x = num.keys()          # all keys of dict will be saved in x\n",
    "y = num.values()       # all values of dict will be saves in y\n",
    "z = num.items()        # all item of dict\n",
    "\n",
    "print(num)\n",
    "print(x)\n",
    "print(y)\n",
    "print(z)"
   ]
  },
  {
   "cell_type": "code",
   "execution_count": 12,
   "metadata": {},
   "outputs": [
    {
     "name": "stdout",
     "output_type": "stream",
     "text": [
      "{'brand': 'Ford', 'model': 'Mustang', 'year': 1964}\n",
      "brand\n",
      "Ford\n",
      "model\n",
      "Mustang\n",
      "year\n",
      "1964\n"
     ]
    }
   ],
   "source": [
    "# Looping in dictionary\n",
    "\n",
    "thisdict = {\"brand\": \"Ford\",\"model\": \"Mustang\",\"year\": 1964}\n",
    "\n",
    "print(thisdict)\n",
    "\n",
    "for x in thisdict:\n",
    "    print(x)               # it will give all keys in dict\n",
    "    print(thisdict[x])     # it will give all values in dict"
   ]
  },
  {
   "cell_type": "markdown",
   "metadata": {},
   "source": [
    "### Random\n",
    "For generating random numbers import RANDOM module"
   ]
  },
  {
   "cell_type": "code",
   "execution_count": 34,
   "metadata": {},
   "outputs": [
    {
     "name": "stdout",
     "output_type": "stream",
     "text": [
      "10\n"
     ]
    }
   ],
   "source": [
    "import random\n",
    "print(random.randrange(1,15))"
   ]
  },
  {
   "cell_type": "code",
   "execution_count": 35,
   "metadata": {},
   "outputs": [
    {
     "name": "stdout",
     "output_type": "stream",
     "text": [
      "False\n",
      "True\n",
      "False\n",
      "True\n",
      "False\n",
      "True\n"
     ]
    }
   ],
   "source": [
    "# Comparison Operator\n",
    "\n",
    "a = 5\n",
    "b = 6\n",
    "\n",
    "print(a == b)\n",
    "print(a < b) \n",
    "print(a > b)\n",
    "print(a <= b)\n",
    "print(a >=b)\n",
    "print(a !=b)"
   ]
  },
  {
   "cell_type": "markdown",
   "metadata": {},
   "source": [
    "### Swapping of two numbers"
   ]
  },
  {
   "cell_type": "code",
   "execution_count": 37,
   "metadata": {},
   "outputs": [
    {
     "name": "stdout",
     "output_type": "stream",
     "text": [
      "6\n",
      "5\n"
     ]
    }
   ],
   "source": [
    "# Method 1\n",
    "\n",
    "a = 5\n",
    "b = 6\n",
    "\n",
    "a = a + b          # Using a formula, but extra bits are wasting\n",
    "b = a - b\n",
    "a = a - b\n",
    "\n",
    "print(a)\n",
    "print(b)"
   ]
  },
  {
   "cell_type": "code",
   "execution_count": 38,
   "metadata": {},
   "outputs": [
    {
     "name": "stdout",
     "output_type": "stream",
     "text": [
      "6\n",
      "5\n"
     ]
    }
   ],
   "source": [
    "# Method 2\n",
    "\n",
    "a = 5\n",
    "b = 6\n",
    "\n",
    "\n",
    "a = a ^ b            # Using bitwise OR operator\n",
    "b = a ^ b\n",
    "a = a ^ b\n",
    "\n",
    "print(a)\n",
    "print(b)"
   ]
  },
  {
   "cell_type": "code",
   "execution_count": 39,
   "metadata": {},
   "outputs": [
    {
     "name": "stdout",
     "output_type": "stream",
     "text": [
      "6\n",
      "5\n"
     ]
    }
   ],
   "source": [
    "# Method 3\n",
    "\n",
    "a = 5\n",
    "b = 6\n",
    "\n",
    "a,b = b,a          # it uses rot_two() concept\n",
    "\n",
    "print(a)\n",
    "print(b)"
   ]
  },
  {
   "cell_type": "markdown",
   "metadata": {},
   "source": [
    "# If - Else"
   ]
  },
  {
   "cell_type": "markdown",
   "metadata": {},
   "source": [
    "### Conditions \n",
    "\n",
    "1. Equals: a == b\n",
    "2. Not Equals: a != b\n",
    "3. Less than: a < b\n",
    "4. Less than or equal to: a <= b\n",
    "5. Greater than: a > b\n",
    "6. Greater than or equal to: a >= b"
   ]
  },
  {
   "cell_type": "code",
   "execution_count": 1,
   "metadata": {},
   "outputs": [
    {
     "name": "stdout",
     "output_type": "stream",
     "text": [
      "b is greater than a\n"
     ]
    }
   ],
   "source": [
    "a = 33\n",
    "b = 200\n",
    "\n",
    "if b > a:\n",
    "  print(\"b is greater than a\")"
   ]
  },
  {
   "cell_type": "code",
   "execution_count": 7,
   "metadata": {},
   "outputs": [
    {
     "name": "stdout",
     "output_type": "stream",
     "text": [
      "B\n"
     ]
    }
   ],
   "source": [
    "# One line if else statement:\n",
    "\n",
    "a = 2\n",
    "b = 30\n",
    "\n",
    "print(\"A\") if a > b else print(\"B\")"
   ]
  },
  {
   "cell_type": "markdown",
   "metadata": {},
   "source": [
    "## While Loop"
   ]
  },
  {
   "cell_type": "code",
   "execution_count": 8,
   "metadata": {},
   "outputs": [
    {
     "name": "stdout",
     "output_type": "stream",
     "text": [
      "######\n",
      "######\n",
      "######\n",
      "######\n",
      "######\n"
     ]
    }
   ],
   "source": [
    "# Nested While loop\n",
    "\n",
    "i = 1\n",
    "\n",
    "while i <= 5:\n",
    "    print(\"#\", end = \"\")\n",
    "    j = 1\n",
    "    while j <= 5:\n",
    "        print(\"#\", end = \"\")\n",
    "        j = j+1\n",
    "    i = i+1\n",
    "    print()           # This print function is used for print in new line"
   ]
  },
  {
   "cell_type": "code",
   "execution_count": 5,
   "metadata": {},
   "outputs": [
    {
     "name": "stdout",
     "output_type": "stream",
     "text": [
      "1\n",
      "2\n",
      "3\n",
      "4\n",
      "5\n",
      "6\n",
      "7\n",
      "8\n",
      "9\n",
      "10\n"
     ]
    }
   ],
   "source": [
    "i = 1\n",
    "\n",
    "while i <= 10:\n",
    "    print(i)\n",
    "    \n",
    "    i = i+1"
   ]
  },
  {
   "cell_type": "markdown",
   "metadata": {},
   "source": [
    "## For Loop"
   ]
  },
  {
   "cell_type": "code",
   "execution_count": 5,
   "metadata": {},
   "outputs": [
    {
     "name": "stdout",
     "output_type": "stream",
     "text": [
      "M\n",
      "a\n",
      "n\n",
      "i\n",
      "s\n",
      "h\n"
     ]
    }
   ],
   "source": [
    "x = \"Manish\"\n",
    "\n",
    "for i in x:\n",
    "    print(i)"
   ]
  },
  {
   "cell_type": "markdown",
   "metadata": {},
   "source": [
    "### The break Statement\n",
    "\n",
    "With the break statement we can stop the loop before it has looped through all the items."
   ]
  },
  {
   "cell_type": "code",
   "execution_count": 9,
   "metadata": {},
   "outputs": [
    {
     "name": "stdout",
     "output_type": "stream",
     "text": [
      "Manish\n",
      "Anish\n"
     ]
    }
   ],
   "source": [
    "x = ['Manish','Anish','Nisha','Manisha']\n",
    "\n",
    "for i in x:\n",
    "    print(i)\n",
    "    if i == 'Anish':\n",
    "        break                  # it will first print the element then break statement"
   ]
  },
  {
   "cell_type": "code",
   "execution_count": 11,
   "metadata": {},
   "outputs": [
    {
     "name": "stdout",
     "output_type": "stream",
     "text": [
      "Manish\n",
      "Anish\n"
     ]
    }
   ],
   "source": [
    "x = ['Manish','Anish','Nisha','Manisha']\n",
    "\n",
    "for i in x:\n",
    "    if i == 'Nisha':\n",
    "        break      # it will break the statement without printing the element because print funct is placed after break\n",
    "    print(i)"
   ]
  },
  {
   "cell_type": "markdown",
   "metadata": {},
   "source": [
    "### The continue Statement\n",
    "\n",
    "With the continue statement we can stop the current iteration of the loop, and continue with the next."
   ]
  },
  {
   "cell_type": "code",
   "execution_count": 14,
   "metadata": {},
   "outputs": [
    {
     "name": "stdout",
     "output_type": "stream",
     "text": [
      "Mani\n",
      "Nisha\n",
      "Manisha\n"
     ]
    }
   ],
   "source": [
    "x = ['Mani','Anish','Nisha','Manisha']\n",
    "\n",
    "for i in x:\n",
    "    if i == 'Anish':\n",
    "        continue                  # It will not print Anish\n",
    "    print(i)"
   ]
  },
  {
   "cell_type": "markdown",
   "metadata": {},
   "source": [
    "### The pass Statement\n",
    "\n",
    "The pass statement is used as a placeholder for future code. When the pass statement is executed, nothing happens, but you avoid getting an error when empty code is not allowed. Empty code is not allowed in loops, function definitions, class definitions, or in if statements."
   ]
  },
  {
   "cell_type": "code",
   "execution_count": 17,
   "metadata": {},
   "outputs": [],
   "source": [
    "a = [2,5,9,4]\n",
    "\n",
    "for i in a:\n",
    "    pass               # This will not give any error. Pass is used for future code"
   ]
  },
  {
   "cell_type": "code",
   "execution_count": 15,
   "metadata": {},
   "outputs": [
    {
     "name": "stdout",
     "output_type": "stream",
     "text": [
      "0\n",
      "1\n",
      "2\n",
      "3\n",
      "4\n",
      "5\n",
      "Finally finished!\n"
     ]
    }
   ],
   "source": [
    "# Else in for loop\n",
    "\n",
    "for x in range(6):\n",
    "    print(x)\n",
    "else:\n",
    "    print(\"Finally finished!\")"
   ]
  },
  {
   "cell_type": "code",
   "execution_count": 18,
   "metadata": {},
   "outputs": [
    {
     "name": "stdout",
     "output_type": "stream",
     "text": [
      "0\n",
      "1\n",
      "2\n",
      "3\n"
     ]
    }
   ],
   "source": [
    "# Note: The else block will NOT be executed if the loop is stopped by a break statement.\n",
    "\n",
    "for x in range(6):\n",
    "    if x == 4: break\n",
    "    print(x)\n",
    "else:\n",
    "    print(\"Finally finished!\")\n",
    "\n",
    "#If the loop breaks, the else block is not executed."
   ]
  },
  {
   "cell_type": "code",
   "execution_count": 26,
   "metadata": {},
   "outputs": [
    {
     "name": "stdout",
     "output_type": "stream",
     "text": [
      "1\n",
      "2\n",
      "4\n",
      "5\n",
      "7\n",
      "8\n",
      "10\n",
      "11\n",
      "13\n",
      "14\n"
     ]
    }
   ],
   "source": [
    "# Print all number from 1 to 15 other than divisible by 3. \n",
    "\n",
    "for i in range(1,16):\n",
    "    if i % 3 != 0:\n",
    "        print(i)"
   ]
  },
  {
   "cell_type": "code",
   "execution_count": 28,
   "metadata": {},
   "outputs": [
    {
     "name": "stdout",
     "output_type": "stream",
     "text": [
      "5\n",
      "10\n",
      "15\n",
      "20\n",
      "25\n",
      "30\n",
      "35\n",
      "40\n",
      "45\n",
      "50\n"
     ]
    }
   ],
   "source": [
    "# Print all the numbers from 1 to 50 divisible by 5.\n",
    "\n",
    "for i in range(1,51):\n",
    "    if i % 5 == 0:\n",
    "        print(i)"
   ]
  },
  {
   "cell_type": "code",
   "execution_count": 33,
   "metadata": {},
   "outputs": [
    {
     "name": "stdout",
     "output_type": "stream",
     "text": [
      "How many candies you want: 10\n",
      "Candy 1\n",
      "Candy 2\n",
      "Candy 3\n",
      "Candy 4\n",
      "Candy 5\n",
      "Candy 6\n",
      "Sorry!! Out of stock\n",
      "Thanks for candies !!\n"
     ]
    }
   ],
   "source": [
    "# Candy Vending Machine\n",
    "\n",
    "avcandy = 6\n",
    "x = int(input('How many candies you want: '))\n",
    "\n",
    "i = 1\n",
    "while i <= x:\n",
    "    if i>avcandy:\n",
    "        print('Sorry!! Out of stock')\n",
    "        break\n",
    "        \n",
    "    print('Candy', i)\n",
    "    i = i+1\n",
    "print('Thanks for candies !!')\n",
    "    "
   ]
  },
  {
   "cell_type": "code",
   "execution_count": 36,
   "metadata": {},
   "outputs": [
    {
     "name": "stdout",
     "output_type": "stream",
     "text": [
      "1\n",
      "2\n",
      "4\n",
      "7\n",
      "8\n",
      "11\n",
      "13\n",
      "14\n",
      "16\n",
      "17\n",
      "19\n",
      "22\n",
      "23\n",
      "26\n",
      "28\n",
      "29\n",
      "31\n",
      "32\n",
      "34\n",
      "37\n",
      "38\n",
      "41\n",
      "43\n",
      "44\n",
      "46\n",
      "47\n",
      "49\n"
     ]
    }
   ],
   "source": [
    "for i in range(1,51):\n",
    "    if i % 3==0 or i % 5 ==0:\n",
    "        continue\n",
    "    print(i)"
   ]
  },
  {
   "cell_type": "code",
   "execution_count": 39,
   "metadata": {},
   "outputs": [
    {
     "name": "stdout",
     "output_type": "stream",
     "text": [
      "2\n",
      "4\n",
      "6\n",
      "8\n",
      "10\n",
      "12\n",
      "14\n",
      "16\n",
      "18\n",
      "20\n"
     ]
    }
   ],
   "source": [
    "for i in range(1,21):\n",
    "    \n",
    "    if i % 2 != 0:\n",
    "        pass\n",
    "    \n",
    "    else:\n",
    "        print(i)"
   ]
  },
  {
   "cell_type": "code",
   "execution_count": 49,
   "metadata": {},
   "outputs": [
    {
     "name": "stdout",
     "output_type": "stream",
     "text": [
      "#####\n",
      "#####\n",
      "#####\n",
      "#####\n",
      "#####\n"
     ]
    }
   ],
   "source": [
    "for i in range(5):\n",
    "    for j in range(5):\n",
    "        \n",
    "        print(\"#\", end = '')\n",
    "\n",
    "    print()"
   ]
  },
  {
   "cell_type": "code",
   "execution_count": 98,
   "metadata": {},
   "outputs": [
    {
     "name": "stdout",
     "output_type": "stream",
     "text": [
      "111111\n",
      "22222\n",
      "3333\n",
      "444\n",
      "55\n",
      "6\n"
     ]
    }
   ],
   "source": [
    "for i in range(6):\n",
    "    for j in range(6-i):\n",
    "        print(i+1, end = '')\n",
    "        \n",
    "    print()"
   ]
  },
  {
   "cell_type": "code",
   "execution_count": 69,
   "metadata": {},
   "outputs": [
    {
     "name": "stdout",
     "output_type": "stream",
     "text": [
      "#\n",
      "##\n",
      "###\n",
      "####\n",
      "#####\n",
      "######\n"
     ]
    }
   ],
   "source": [
    "for i in range(6):\n",
    "    for j in range(i+1):\n",
    "        \n",
    "        print('#', end = '')\n",
    "\n",
    "    print()"
   ]
  },
  {
   "cell_type": "code",
   "execution_count": 70,
   "metadata": {},
   "outputs": [
    {
     "name": "stdout",
     "output_type": "stream",
     "text": [
      "######\n",
      "#####\n",
      "####\n",
      "###\n",
      "##\n",
      "#\n"
     ]
    }
   ],
   "source": [
    "for i in range(6):\n",
    "    for j in range(6-i):\n",
    "        \n",
    "        print('#', end = '')\n",
    "        \n",
    "    print()"
   ]
  },
  {
   "cell_type": "code",
   "execution_count": 99,
   "metadata": {},
   "outputs": [
    {
     "name": "stdout",
     "output_type": "stream",
     "text": [
      "55555\n",
      "4444\n",
      "333\n",
      "22\n",
      "1\n"
     ]
    }
   ],
   "source": [
    "for i in range(5,0,-1):\n",
    "    for j in range(i):\n",
    "        print(i, end = '')\n",
    "        \n",
    "    print()"
   ]
  },
  {
   "cell_type": "code",
   "execution_count": 103,
   "metadata": {},
   "outputs": [
    {
     "name": "stdout",
     "output_type": "stream",
     "text": [
      "1\n",
      "22\n",
      "333\n",
      "4444\n",
      "55555\n"
     ]
    }
   ],
   "source": [
    "for i in range(5):\n",
    "    for j in range(i+1):\n",
    "        print(i+1, end = '')\n",
    "        \n",
    "    print()"
   ]
  },
  {
   "cell_type": "code",
   "execution_count": 1,
   "metadata": {},
   "outputs": [
    {
     "name": "stdin",
     "output_type": "stream",
     "text": [
      "enter no of rows 5\n"
     ]
    },
    {
     "name": "stdout",
     "output_type": "stream",
     "text": [
      "1 2 3 4 5 \n",
      "2 3 4 5 \n",
      "3 4 5 \n",
      "4 5 \n",
      "5 \n"
     ]
    }
   ],
   "source": [
    "x = int(input(\"enter no of rows\"))\n",
    "for i in range(x):\n",
    "    for j in range(x-i):\n",
    "        print(j+i+1, end=\" \")\n",
    "    print()\n"
   ]
  },
  {
   "cell_type": "code",
   "execution_count": 115,
   "metadata": {},
   "outputs": [
    {
     "name": "stdout",
     "output_type": "stream",
     "text": [
      "Not found\n"
     ]
    }
   ],
   "source": [
    "# For - Else example\n",
    "\n",
    "nums = [12,18,22,24,31]\n",
    "\n",
    "for num in nums:\n",
    "    if num % 5==0:                   # print the only number divisible by 5\n",
    "        print(num)\n",
    "        break\n",
    "        \n",
    "else:\n",
    "        print('Not found')            # Here else is part of for loop. \n",
    "        "
   ]
  },
  {
   "cell_type": "code",
   "execution_count": 11,
   "metadata": {},
   "outputs": [
    {
     "name": "stdout",
     "output_type": "stream",
     "text": [
      "This number is Prime\n"
     ]
    }
   ],
   "source": [
    "# Write a program for checking the number is prime or composite\n",
    "\n",
    "num = 7\n",
    "\n",
    "for i in range(2,num):\n",
    "    if num % i == 0:\n",
    "        print('This number is Composite')\n",
    "        break\n",
    "else:\n",
    "        print('This number is Prime')           # This is \"for - else\" type\n",
    "        "
   ]
  },
  {
   "cell_type": "markdown",
   "metadata": {},
   "source": [
    "# Arrays\n",
    "\n",
    "1. An array is a special variable, which can hold more than one value at a time.\n",
    "2. An array can hold many values under a single name, and you can access the values by referring to an index number."
   ]
  },
  {
   "cell_type": "code",
   "execution_count": 21,
   "metadata": {},
   "outputs": [
    {
     "name": "stdout",
     "output_type": "stream",
     "text": [
      "array('i', [4, 3, 9, 15, 6])\n",
      "(2625266851024, 5)\n",
      "5\n"
     ]
    }
   ],
   "source": [
    "from array import *                # here star(*) means all the function of array \n",
    "\n",
    "nums = array('i',[4,3,9,15,6])\n",
    "\n",
    "print(nums)                       # this will print whole array.\n",
    "print(nums.buffer_info())         # this function will give length of array along with memory location of array.\n",
    "print(len(nums))                  # this is only for length of array "
   ]
  },
  {
   "cell_type": "code",
   "execution_count": 28,
   "metadata": {},
   "outputs": [
    {
     "name": "stdout",
     "output_type": "stream",
     "text": [
      "4\n",
      "3\n",
      "9\n",
      "15\n",
      "6\n"
     ]
    }
   ],
   "source": [
    "from array import *                # here star(*) means all the function of array \n",
    "\n",
    "nums = array('i',[4,3,9,15,6])\n",
    "\n",
    "for i in range(len(nums)):\n",
    "    print(nums[i])                # index of nums, means the values get printed in every loop\n",
    "        "
   ]
  },
  {
   "cell_type": "code",
   "execution_count": 33,
   "metadata": {},
   "outputs": [
    {
     "name": "stdout",
     "output_type": "stream",
     "text": [
      "array('i', [4, 8, 12, 16, 25])\n"
     ]
    }
   ],
   "source": [
    "import array as arr             # Another way of importing array\n",
    "\n",
    "values = arr.array('i',[4,8,12,16,25])\n",
    "\n",
    "newArr = arr.array(values.typecode, (a for a in values))         # creating new array with same values from diff arr.\n",
    "# here values.typecode is used to take same C TYPE of the array.\n",
    "\n",
    "print(newArr)"
   ]
  },
  {
   "cell_type": "code",
   "execution_count": 35,
   "metadata": {},
   "outputs": [
    {
     "name": "stdout",
     "output_type": "stream",
     "text": [
      "array('u', 'mani')\n",
      "m\n",
      "a\n",
      "n\n",
      "i\n"
     ]
    }
   ],
   "source": [
    "import array as arr             # Another way of importing array\n",
    "\n",
    "unicode = arr.array('u',['m','a','n','i'])\n",
    "print(unicode)\n",
    "\n",
    "for i in unicode:               # to find every vlaue one by one \n",
    "    print(i)"
   ]
  },
  {
   "cell_type": "markdown",
   "metadata": {},
   "source": [
    "## Take user input to create an Array "
   ]
  },
  {
   "cell_type": "code",
   "execution_count": 3,
   "metadata": {},
   "outputs": [
    {
     "name": "stdout",
     "output_type": "stream",
     "text": [
      "How many values you want to Enter: 4\n",
      "Enter your value: 2\n",
      "Enter your value: 3\n",
      "Enter your value: 8\n",
      "Enter your value: 9\n",
      "array('i', [2, 3, 8, 9])\n"
     ]
    }
   ],
   "source": [
    "from array import *\n",
    "\n",
    "arr = array('i',[])           # empty array for appending inputs\n",
    "\n",
    "a = int(input('How many values you want to Enter: '))           # size of array\n",
    "\n",
    "for i in range(a):\n",
    "    b = int(input('Enter your value: '))              # take input each time \n",
    "    arr.append(b)                                   # append all taken inputs to the empty array\n",
    "    \n",
    "print(arr)"
   ]
  },
  {
   "cell_type": "code",
   "execution_count": 2,
   "metadata": {},
   "outputs": [
    {
     "name": "stdout",
     "output_type": "stream",
     "text": [
      "How many values in Array: 4\n",
      "Enter your value: 10\n",
      "Enter your value: 20\n",
      "Enter your value: 30\n",
      "Enter your value: 40\n",
      "array('i', [10, 20, 30, 40])\n",
      "Enter value for search: 30\n",
      "2\n",
      "2\n"
     ]
    }
   ],
   "source": [
    "from array import *\n",
    "\n",
    "arr = array('i',[])               # empty array for appending inputs\n",
    "\n",
    "user_input = int(input('How many values in Array: '))            # size of array\n",
    "\n",
    "for e in range(user_input):\n",
    "    elements = int(input('Enter your value: '))           # take input each time \n",
    "    arr.append(elements)                                 # append all taken inputs to the empty array\n",
    "    \n",
    "print(arr)\n",
    "\n",
    "values = int(input('Enter value for search: '))         # ask value to search for index  \n",
    "\n",
    "index = 0\n",
    "\n",
    "for e in arr:\n",
    "    if e == values:\n",
    "        print(index)\n",
    "        break \n",
    "        \n",
    "    index +=1\n",
    "    \n",
    "print(arr.index(values))             # this in built function is used for getting index of the element "
   ]
  },
  {
   "cell_type": "markdown",
   "metadata": {},
   "source": [
    "### NumPy : 1D, 2D and Multi Diamensional Arrays"
   ]
  },
  {
   "cell_type": "code",
   "execution_count": 4,
   "metadata": {},
   "outputs": [
    {
     "name": "stdout",
     "output_type": "stream",
     "text": [
      "[ 1  2  4  8 16]\n"
     ]
    }
   ],
   "source": [
    "from numpy import *                # import all funct & modules of numpy liabrary\n",
    "\n",
    "arr = array([1,2,4,8,16],int)         # in numpy C TYPE is optional but at the last we can write datatypes (<--here int)\n",
    "\n",
    "print(arr)"
   ]
  },
  {
   "cell_type": "markdown",
   "metadata": {},
   "source": [
    "### Modules Vs Liabrary\n",
    "\n",
    "1. A module is a collection of code or functions that uses the . py extension. \n",
    "2. A Python library is a set of related modules or packages bundled together."
   ]
  },
  {
   "cell_type": "markdown",
   "metadata": {},
   "source": [
    "### Functions Vs Module\n",
    "\n",
    "Functions are groups of code, and modules are groups of classes and functions."
   ]
  },
  {
   "cell_type": "markdown",
   "metadata": {},
   "source": [
    "## Creating NumPy Arrays"
   ]
  },
  {
   "cell_type": "markdown",
   "metadata": {},
   "source": [
    "### 1. Array( )"
   ]
  },
  {
   "cell_type": "code",
   "execution_count": 7,
   "metadata": {},
   "outputs": [
    {
     "name": "stdout",
     "output_type": "stream",
     "text": [
      "int32\n",
      "[ 1  3  5  9 15]\n"
     ]
    }
   ],
   "source": [
    "# Topic - 1 \n",
    "\n",
    "from numpy import *\n",
    "\n",
    "arr = array([1,3,5,9,15])      # all elements should be of same types\n",
    "\n",
    "print(arr.dtype)   # it will give datatype of array containing elements\n",
    "print(arr)"
   ]
  },
  {
   "cell_type": "code",
   "execution_count": 8,
   "metadata": {},
   "outputs": [
    {
     "name": "stdout",
     "output_type": "stream",
     "text": [
      "float64\n",
      "[ 1.   3.   5.   9.  15.2]\n"
     ]
    }
   ],
   "source": [
    "# Topic - 1.1\n",
    "\n",
    "from numpy import *\n",
    "\n",
    "arr = array([1,3,5,9,15.2])   # if any value(15.2) is changed to diff datatype,all element will converted to same datatype\n",
    "\n",
    "print(arr.dtype)   # it will give datatype of array containing elements\n",
    "print(arr)"
   ]
  },
  {
   "cell_type": "code",
   "execution_count": 9,
   "metadata": {},
   "outputs": [
    {
     "name": "stdout",
     "output_type": "stream",
     "text": [
      "float64\n",
      "[ 1.  3.  5.  9. 15.]\n"
     ]
    }
   ],
   "source": [
    "# Topic - 1.2 \n",
    "\n",
    "from numpy import *\n",
    "\n",
    "arr = array([1,3,5,9,15],float)   # mentioned datatype will apply, no matter what is input value (<-- here int to float)\n",
    "\n",
    "print(arr.dtype)   # it will give datatype of array containing elements\n",
    "print(arr)"
   ]
  },
  {
   "cell_type": "code",
   "execution_count": null,
   "metadata": {},
   "outputs": [],
   "source": []
  },
  {
   "cell_type": "code",
   "execution_count": null,
   "metadata": {},
   "outputs": [],
   "source": []
  },
  {
   "cell_type": "markdown",
   "metadata": {},
   "source": [
    "# Functions\n",
    "\n",
    "\n",
    "1. A function is a block of code which only runs when it is called.\n",
    "2. You can pass data, known as parameters, into a function.\n",
    "3. A function can return data as a result."
   ]
  },
  {
   "cell_type": "markdown",
   "metadata": {},
   "source": [
    "### (a) Creating a Function\n",
    "\n",
    "In Python a function is defined using the def keyword.\n",
    "\n",
    "### (b) Calling a Function\n",
    "\n",
    "To call a function, use the function name followed by parenthesis."
   ]
  },
  {
   "cell_type": "code",
   "execution_count": 2,
   "metadata": {},
   "outputs": [
    {
     "name": "stdout",
     "output_type": "stream",
     "text": [
      "9\n"
     ]
    }
   ],
   "source": [
    "# Topic - 1\n",
    "\n",
    "def add():        # creating a function\n",
    "    a = 5\n",
    "    b = 4\n",
    "    c = a + b\n",
    "    print(c)\n",
    "    \n",
    "add()            # calling a function "
   ]
  },
  {
   "cell_type": "code",
   "execution_count": 2,
   "metadata": {},
   "outputs": [
    {
     "name": "stdout",
     "output_type": "stream",
     "text": [
      "10\n",
      "25\n",
      "30\n"
     ]
    }
   ],
   "source": [
    "# Topic - 1.1   (Function with 1 parameter)\n",
    "\n",
    "def add(y):      # creating a function with 1 parameter \n",
    "    x = 4\n",
    "    z = x + y\n",
    "    print(z)\n",
    "    \n",
    "add(6)         # calling a function \n",
    "\n",
    "\n",
    "# Topic - 1.2  (Function with more than 1 parameter)\n",
    "\n",
    "def addition(x,y):      # creating a function with 1 parameter \n",
    "    z = x + y\n",
    "    print(z)\n",
    "    \n",
    "addition(10,15)\n",
    "\n",
    "# Topic - 1.3 (Function with return )\n",
    "\n",
    "def add_ret(x,y):\n",
    "    z = x + y\n",
    "    return z\n",
    "\n",
    "result = add_ret(10,20)\n",
    "print(result)"
   ]
  },
  {
   "cell_type": "markdown",
   "metadata": {},
   "source": [
    "## (* args) VS (** kwargs)"
   ]
  },
  {
   "cell_type": "code",
   "execution_count": 8,
   "metadata": {},
   "outputs": [
    {
     "name": "stdout",
     "output_type": "stream",
     "text": [
      "20\n",
      "30\n",
      "50\n",
      "50\n"
     ]
    }
   ],
   "source": [
    "# Topic - 1   (Arbitrary Arguments, *args)\n",
    "\n",
    "def add(a,*b):      # if number of argument is not fix we use 1 * before the argument     \n",
    "    \n",
    "    c = a\n",
    "    \n",
    "    for i in b:\n",
    "        c = c + i        \n",
    "        \n",
    "        print(c)        # inside for loop, will give each addition \n",
    "        \n",
    "    print(c)     # outside for loop, will give only final output\n",
    "    \n",
    "    \n",
    "add(5,15,10,20)"
   ]
  },
  {
   "cell_type": "code",
   "execution_count": 14,
   "metadata": {},
   "outputs": [
    {
     "name": "stdout",
     "output_type": "stream",
     "text": [
      "Mani\n",
      "{'age': 28, 'city': 'mumbai', 'mob': 8149690}\n",
      "age 28\n",
      "city mumbai\n",
      "mob 8149690\n"
     ]
    }
   ],
   "source": [
    "# Topic - 2   (Arbitrary Keyword Arguments, **kwargs)\n",
    "\n",
    "def person(name,**data):    # if number of argument is not fix we use 2 * before the argument     \n",
    "    \n",
    "    print(name)\n",
    "    print(data)\n",
    "    \n",
    "    for i,j in data.items():     # it will give all key and value of dict \n",
    "        print(i,j)\n",
    "    \n",
    "person('Mani',age=28,city='mumbai',mob= 8149690)"
   ]
  },
  {
   "cell_type": "code",
   "execution_count": 18,
   "metadata": {},
   "outputs": [
    {
     "name": "stdout",
     "output_type": "stream",
     "text": [
      "15\n",
      "10\n",
      "10\n"
     ]
    }
   ],
   "source": [
    "# Global Vs Local Variable\n",
    "\n",
    "a = 15        # variable outside the fuction \n",
    "\n",
    "def something():\n",
    "    global a        # Global keyword inside a func, this will give all variable same values \n",
    "    a = 10\n",
    "    print(a)\n",
    "    \n",
    "something()\n",
    "\n",
    "\n",
    "print(a)"
   ]
  },
  {
   "cell_type": "code",
   "execution_count": 24,
   "metadata": {},
   "outputs": [
    {
     "name": "stdout",
     "output_type": "stream",
     "text": [
      "140709256864592\n",
      "140709256864592\n",
      "15\n",
      "inside  10\n",
      "outside 15\n"
     ]
    }
   ],
   "source": [
    "# Global Vs Local variable.. use with eg\n",
    "\n",
    "a = 15        # variable outside the fuction \n",
    "print(id(a))\n",
    "\n",
    "def something():\n",
    "    \n",
    "    a = 10\n",
    "    \n",
    "    x = globals()['a']     # Global keyword inside a func, this will give all variable same values \n",
    "    print(id(x))\n",
    "    print(x)\n",
    "    \n",
    "    print('inside ', a)\n",
    "    \n",
    "something()\n",
    "\n",
    "\n",
    "print('outside', a)"
   ]
  },
  {
   "cell_type": "code",
   "execution_count": 27,
   "metadata": {},
   "outputs": [
    {
     "name": "stdout",
     "output_type": "stream",
     "text": [
      "[1, 2, 5, 8.6, 'mani']\n",
      "<class 'list'>\n"
     ]
    },
    {
     "data": {
      "text/plain": [
       "[1, 2, 5, 8.6, 'mani']"
      ]
     },
     "execution_count": 27,
     "metadata": {},
     "output_type": "execute_result"
    }
   ],
   "source": [
    "# Passing list to a func\n",
    "\n",
    "list = [1,2,5,8.6,'mani']\n",
    "\n",
    "def nothing(li):\n",
    "    \n",
    "    print(li)\n",
    "    print(type(li))\n",
    "    return li\n",
    "    \n",
    "# list = [1,2,5,8.6,'mani']           # <-- this list can be created outside the func as well  \n",
    "\n",
    "nothing(list)      # Passed list as argument"
   ]
  },
  {
   "cell_type": "code",
   "execution_count": 36,
   "metadata": {},
   "outputs": [
    {
     "name": "stdout",
     "output_type": "stream",
     "text": [
      "Total Even numbers in list:  3\n",
      "Total Odd numbers in list: 4\n"
     ]
    }
   ],
   "source": [
    "# write a program to find odd and even numbers in a given list using function concept\n",
    "\n",
    "def nums(li):\n",
    "    even = 0\n",
    "    odd = 0\n",
    "    \n",
    "    for i in li:                # For loop used to find even or odd numbers\n",
    "        if i % 2 == 0:\n",
    "            even +=1\n",
    "            \n",
    "        else:\n",
    "            odd +=1\n",
    "    return even, odd         # it will return all even and odd count\n",
    "\n",
    "li = [1,5,14,21,24,30,37]\n",
    "even, odd = nums(li)\n",
    "\n",
    "print('Total Even numbers in list: ',even)\n",
    "print('Total Odd numbers in list:',odd)\n",
    "        "
   ]
  },
  {
   "cell_type": "markdown",
   "metadata": {},
   "source": [
    "# Fibonacci Series\n",
    "\n",
    "A series of numbers in which each number ( Fibonacci number ) is the sum of the two preceding numbers. The simplest is the series 0, 1, 1, 2, 3, 5, 8, etc."
   ]
  },
  {
   "cell_type": "code",
   "execution_count": 46,
   "metadata": {},
   "outputs": [
    {
     "name": "stdout",
     "output_type": "stream",
     "text": [
      "Length of fibonacci: 5\n",
      "0\n",
      "1\n",
      "1\n",
      "2\n",
      "3\n"
     ]
    }
   ],
   "source": [
    "# Write a program to create a fibonacci series [Method 1]\n",
    "\n",
    "m = int(input('Length of fibonacci: '))        # it takes user input for length\n",
    "\n",
    "def fib(n):       # fibonacci function \n",
    "    \n",
    "    a = 0\n",
    "    b = 1 \n",
    "    \n",
    "    if n == 1:\n",
    "        print(a)       # value of a will be printed if length is 1\n",
    "        \n",
    "    else:\n",
    "        print(a)\n",
    "        print(b)\n",
    "        \n",
    "        for i in range(2,n):            # range is starting from 2 because it exclude last number \n",
    "            c = a + b\n",
    "            a = b          # value of b is shifting to a\n",
    "            b = c          # value of c is shifting to b\n",
    "            print(c)\n",
    "            \n",
    "fib(m)"
   ]
  },
  {
   "cell_type": "code",
   "execution_count": 48,
   "metadata": {},
   "outputs": [
    {
     "name": "stdout",
     "output_type": "stream",
     "text": [
      "Length of fibonacci: 5\n",
      "0\n",
      "1\n",
      "1\n",
      "2\n",
      "3\n"
     ]
    }
   ],
   "source": [
    "# Write a program to create a fibonacci series [Method 2]\n",
    "\n",
    "m = int(input('Length of fibonacci: '))\n",
    "\n",
    "def fib(n):\n",
    "    a=0\n",
    "    b=1\n",
    "    for i in range(0,n):\n",
    "        print(a)\n",
    "        a,b = b,a+b\n",
    "\n",
    "fib(m)"
   ]
  },
  {
   "cell_type": "code",
   "execution_count": 53,
   "metadata": {},
   "outputs": [
    {
     "name": "stdout",
     "output_type": "stream",
     "text": [
      "Length of fibonacci: 5\n",
      "0\n",
      "1\n",
      "1\n",
      "2\n",
      "3\n"
     ]
    }
   ],
   "source": [
    "# Write a program to create a fibonacci series if input is negetive. Eg: fib(-5)\n",
    "\n",
    "m = int(input('Length of fibonacci: '))\n",
    "\n",
    "def fib(n):\n",
    "    a = 0\n",
    "    b = 1\n",
    "    \n",
    "    if n <= 0:\n",
    "        print('Please enter positive number')\n",
    "        \n",
    "    else:\n",
    "    \n",
    "        for i in range(0,n):\n",
    "            print(a)\n",
    "\n",
    "            a,b = b,a+b\n",
    "\n",
    "fib(m)\n",
    "\n"
   ]
  },
  {
   "cell_type": "markdown",
   "metadata": {},
   "source": [
    "# Factorial "
   ]
  },
  {
   "cell_type": "code",
   "execution_count": 63,
   "metadata": {},
   "outputs": [
    {
     "name": "stdout",
     "output_type": "stream",
     "text": [
      "Enter the number to find factorial: 5\n",
      "1\n",
      "2\n",
      "6\n",
      "24\n",
      "120\n"
     ]
    }
   ],
   "source": [
    "# Using For loop \n",
    "\n",
    "m = int(input('Enter the number to find factorial: '))\n",
    "a = 1\n",
    "    \n",
    "for i in range(1, m+1):\n",
    "        a = a * i\n",
    "        print(a)\n",
    "        "
   ]
  },
  {
   "cell_type": "code",
   "execution_count": 66,
   "metadata": {},
   "outputs": [
    {
     "data": {
      "text/plain": [
       "24"
      ]
     },
     "execution_count": 66,
     "metadata": {},
     "output_type": "execute_result"
    }
   ],
   "source": [
    "# Using function\n",
    "\n",
    "def fact(n):\n",
    "    \n",
    "    a = 1\n",
    "    \n",
    "    for i in range(1, n+1):\n",
    "            a = a * i\n",
    "           # print(a)\n",
    "\n",
    "    return a\n",
    "    \n",
    "fact(4)\n"
   ]
  },
  {
   "cell_type": "markdown",
   "metadata": {},
   "source": [
    "# Recursion\n",
    "\n",
    "1. The process in which a function calls itself directly or indirectly is called recursion \n",
    "2. The corresponding function is called a recursive function."
   ]
  },
  {
   "cell_type": "code",
   "execution_count": 1,
   "metadata": {},
   "outputs": [
    {
     "name": "stdout",
     "output_type": "stream",
     "text": [
      "100\n",
      "Hi 1\n",
      "Hi 2\n",
      "Hi 3\n",
      "Hi 4\n",
      "Hi 5\n",
      "Hi 6\n",
      "Hi 7\n",
      "Hi 8\n",
      "Hi 9\n",
      "Hi 10\n",
      "Hi 11\n",
      "Hi 12\n",
      "Hi 13\n",
      "Hi 14\n",
      "Hi 15\n",
      "Hi 16\n",
      "Hi 17\n",
      "Hi 18\n",
      "Hi 19\n",
      "Hi 20\n",
      "Hi 21\n",
      "Hi 22\n",
      "Hi 23\n",
      "Hi 24\n",
      "Hi 25\n",
      "Hi 26\n",
      "Hi 27\n",
      "Hi 28\n",
      "Hi 29\n",
      "Hi 30\n",
      "Hi 31\n",
      "Hi 32\n",
      "Hi 33\n",
      "Hi 34\n",
      "Hi 35\n",
      "Hi 36\n",
      "Hi 37\n",
      "Hi 38\n",
      "Hi 39\n",
      "Hi 40\n",
      "Hi 41\n",
      "Hi 42\n",
      "Hi 43\n",
      "Hi 44\n",
      "Hi 45\n",
      "Hi 46\n",
      "Hi 47\n",
      "Hi 48\n",
      "Hi 49\n",
      "Hi 50\n",
      "Hi 51\n",
      "Hi 52\n",
      "Hi 53\n",
      "Hi 54\n",
      "Hi 55\n",
      "Hi 56\n",
      "Hi 57\n",
      "Hi 58\n",
      "Hi 59\n",
      "Hi 60\n",
      "Hi 61\n",
      "Hi 62\n",
      "Hi 63\n",
      "Hi 64\n",
      "Hi 65\n",
      "Hi 66\n",
      "Hi 67\n",
      "Hi 68\n",
      "Hi 69\n",
      "Unexpected exception formatting exception. Falling back to standard exception\n"
     ]
    },
    {
     "name": "stderr",
     "output_type": "stream",
     "text": [
      "Traceback (most recent call last):\n",
      "  File \"C:\\ProgramData\\anaconda3\\Lib\\site-packages\\IPython\\core\\interactiveshell.py\", line 3553, in run_code\n",
      "    exec(code_obj, self.user_global_ns, self.user_ns)\n",
      "  File \"C:\\Users\\Manish Yadav\\AppData\\Local\\Temp\\ipykernel_5108\\2416322487.py\", line 15, in <module>\n",
      "    hi()\n",
      "  File \"C:\\Users\\Manish Yadav\\AppData\\Local\\Temp\\ipykernel_5108\\2416322487.py\", line 13, in hi\n",
      "    hi()           # hi() func calling itself again and again\n",
      "    ^^^^\n",
      "  File \"C:\\Users\\Manish Yadav\\AppData\\Local\\Temp\\ipykernel_5108\\2416322487.py\", line 13, in hi\n",
      "    hi()           # hi() func calling itself again and again\n",
      "    ^^^^\n",
      "  File \"C:\\Users\\Manish Yadav\\AppData\\Local\\Temp\\ipykernel_5108\\2416322487.py\", line 13, in hi\n",
      "    hi()           # hi() func calling itself again and again\n",
      "    ^^^^\n",
      "  [Previous line repeated 66 more times]\n",
      "  File \"C:\\Users\\Manish Yadav\\AppData\\Local\\Temp\\ipykernel_5108\\2416322487.py\", line 12, in hi\n",
      "    print('Hi',i)\n",
      "  File \"C:\\ProgramData\\anaconda3\\Lib\\site-packages\\ipykernel\\iostream.py\", line 649, in write\n",
      "    is_child = not self._is_master_process()\n",
      "                   ^^^^^^^^^^^^^^^^^^^^^^^^^\n",
      "  File \"C:\\ProgramData\\anaconda3\\Lib\\site-packages\\ipykernel\\iostream.py\", line 520, in _is_master_process\n",
      "    return os.getpid() == self._master_pid\n",
      "           ^^^^^^^^^^^\n",
      "RecursionError: maximum recursion depth exceeded while calling a Python object\n",
      "\n",
      "During handling of the above exception, another exception occurred:\n",
      "\n",
      "Traceback (most recent call last):\n",
      "  File \"C:\\ProgramData\\anaconda3\\Lib\\site-packages\\pygments\\lexer.py\", line 559, in _process_state\n",
      "    rex = cls._process_regex(tdef[0], rflags, state)\n",
      "          ^^^^^^^^^^^^^^^^^^^^^^^^^^^^^^^^^^^^^^^^^^\n",
      "  File \"C:\\ProgramData\\anaconda3\\Lib\\site-packages\\pygments\\lexer.py\", line 487, in _process_regex\n",
      "    regex = regex.get()\n",
      "            ^^^^^^^^^^^\n",
      "  File \"C:\\ProgramData\\anaconda3\\Lib\\site-packages\\pygments\\lexer.py\", line 475, in get\n",
      "    return regex_opt(self.words, prefix=self.prefix, suffix=self.suffix)\n",
      "           ^^^^^^^^^^^^^^^^^^^^^^^^^^^^^^^^^^^^^^^^^^^^^^^^^^^^^^^^^^^^^\n",
      "  File \"C:\\ProgramData\\anaconda3\\Lib\\site-packages\\pygments\\regexopt.py\", line 91, in regex_opt\n",
      "    return prefix + regex_opt_inner(strings, '(') + suffix\n",
      "                    ^^^^^^^^^^^^^^^^^^^^^^^^^^^^^\n",
      "  File \"C:\\ProgramData\\anaconda3\\Lib\\site-packages\\pygments\\regexopt.py\", line 77, in regex_opt_inner\n",
      "    '|'.join(regex_opt_inner(list(group[1]), '')\n",
      "  File \"C:\\ProgramData\\anaconda3\\Lib\\site-packages\\pygments\\regexopt.py\", line 77, in <genexpr>\n",
      "    '|'.join(regex_opt_inner(list(group[1]), '')\n",
      "             ^^^^^^^^^^^^^^^^^^^^^^^^^^^^^^^^^^^\n",
      "  File \"C:\\ProgramData\\anaconda3\\Lib\\site-packages\\pygments\\regexopt.py\", line 77, in regex_opt_inner\n",
      "    '|'.join(regex_opt_inner(list(group[1]), '')\n",
      "  File \"C:\\ProgramData\\anaconda3\\Lib\\site-packages\\pygments\\regexopt.py\", line 77, in <genexpr>\n",
      "    '|'.join(regex_opt_inner(list(group[1]), '')\n",
      "             ^^^^^^^^^^^^^^^^^^^^^^^^^^^^^^^^^^^\n",
      "  File \"C:\\ProgramData\\anaconda3\\Lib\\site-packages\\pygments\\regexopt.py\", line 77, in regex_opt_inner\n",
      "    '|'.join(regex_opt_inner(list(group[1]), '')\n",
      "  File \"C:\\ProgramData\\anaconda3\\Lib\\site-packages\\pygments\\regexopt.py\", line 77, in <genexpr>\n",
      "    '|'.join(regex_opt_inner(list(group[1]), '')\n",
      "             ^^^^^^^^^^^^^^^^^^^^^^^^^^^^^^^^^^^\n",
      "  File \"C:\\ProgramData\\anaconda3\\Lib\\site-packages\\pygments\\regexopt.py\", line 77, in regex_opt_inner\n",
      "    '|'.join(regex_opt_inner(list(group[1]), '')\n",
      "  File \"C:\\ProgramData\\anaconda3\\Lib\\site-packages\\pygments\\regexopt.py\", line 77, in <genexpr>\n",
      "    '|'.join(regex_opt_inner(list(group[1]), '')\n",
      "             ^^^^^^^^^^^^^^^^^^^^^^^^^^^^^^^^^^^\n",
      "  File \"C:\\ProgramData\\anaconda3\\Lib\\site-packages\\pygments\\regexopt.py\", line 77, in regex_opt_inner\n",
      "    '|'.join(regex_opt_inner(list(group[1]), '')\n",
      "  File \"C:\\ProgramData\\anaconda3\\Lib\\site-packages\\pygments\\regexopt.py\", line 77, in <genexpr>\n",
      "    '|'.join(regex_opt_inner(list(group[1]), '')\n",
      "             ^^^^^^^^^^^^^^^^^^^^^^^^^^^^^^^^^^^\n",
      "  File \"C:\\ProgramData\\anaconda3\\Lib\\site-packages\\pygments\\regexopt.py\", line 77, in regex_opt_inner\n",
      "    '|'.join(regex_opt_inner(list(group[1]), '')\n",
      "  File \"C:\\ProgramData\\anaconda3\\Lib\\site-packages\\pygments\\regexopt.py\", line 77, in <genexpr>\n",
      "    '|'.join(regex_opt_inner(list(group[1]), '')\n",
      "             ^^^^^^^^^^^^^^^^^^^^^^^^^^^^^^^^^^^\n",
      "  File \"C:\\ProgramData\\anaconda3\\Lib\\site-packages\\pygments\\regexopt.py\", line 77, in regex_opt_inner\n",
      "    '|'.join(regex_opt_inner(list(group[1]), '')\n",
      "  File \"C:\\ProgramData\\anaconda3\\Lib\\site-packages\\pygments\\regexopt.py\", line 77, in <genexpr>\n",
      "    '|'.join(regex_opt_inner(list(group[1]), '')\n",
      "             ^^^^^^^^^^^^^^^^^^^^^^^^^^^^^^^^^^^\n",
      "  File \"C:\\ProgramData\\anaconda3\\Lib\\site-packages\\pygments\\regexopt.py\", line 77, in regex_opt_inner\n",
      "    '|'.join(regex_opt_inner(list(group[1]), '')\n",
      "  File \"C:\\ProgramData\\anaconda3\\Lib\\site-packages\\pygments\\regexopt.py\", line 77, in <genexpr>\n",
      "    '|'.join(regex_opt_inner(list(group[1]), '')\n",
      "             ^^^^^^^^^^^^^^^^^^^^^^^^^^^^^^^^^^^\n",
      "  File \"C:\\ProgramData\\anaconda3\\Lib\\site-packages\\pygments\\regexopt.py\", line 77, in regex_opt_inner\n",
      "    '|'.join(regex_opt_inner(list(group[1]), '')\n",
      "  File \"C:\\ProgramData\\anaconda3\\Lib\\site-packages\\pygments\\regexopt.py\", line 77, in <genexpr>\n",
      "    '|'.join(regex_opt_inner(list(group[1]), '')\n",
      "             ^^^^^^^^^^^^^^^^^^^^^^^^^^^^^^^^^^^\n",
      "  File \"C:\\ProgramData\\anaconda3\\Lib\\site-packages\\pygments\\regexopt.py\", line 77, in regex_opt_inner\n",
      "    '|'.join(regex_opt_inner(list(group[1]), '')\n",
      "  File \"C:\\ProgramData\\anaconda3\\Lib\\site-packages\\pygments\\regexopt.py\", line 77, in <genexpr>\n",
      "    '|'.join(regex_opt_inner(list(group[1]), '')\n",
      "             ^^^^^^^^^^^^^^^^^^^^^^^^^^^^^^^^^^^\n",
      "  File \"C:\\ProgramData\\anaconda3\\Lib\\site-packages\\pygments\\regexopt.py\", line 77, in regex_opt_inner\n",
      "    '|'.join(regex_opt_inner(list(group[1]), '')\n",
      "  File \"C:\\ProgramData\\anaconda3\\Lib\\site-packages\\pygments\\regexopt.py\", line 77, in <genexpr>\n",
      "    '|'.join(regex_opt_inner(list(group[1]), '')\n",
      "             ^^^^^^^^^^^^^^^^^^^^^^^^^^^^^^^^^^^\n",
      "  File \"C:\\ProgramData\\anaconda3\\Lib\\site-packages\\pygments\\regexopt.py\", line 77, in regex_opt_inner\n",
      "    '|'.join(regex_opt_inner(list(group[1]), '')\n",
      "  File \"C:\\ProgramData\\anaconda3\\Lib\\site-packages\\pygments\\regexopt.py\", line 77, in <genexpr>\n",
      "    '|'.join(regex_opt_inner(list(group[1]), '')\n",
      "             ^^^^^^^^^^^^^^^^^^^^^^^^^^^^^^^^^^^\n",
      "  File \"C:\\ProgramData\\anaconda3\\Lib\\site-packages\\pygments\\regexopt.py\", line 77, in regex_opt_inner\n",
      "    '|'.join(regex_opt_inner(list(group[1]), '')\n",
      "  File \"C:\\ProgramData\\anaconda3\\Lib\\site-packages\\pygments\\regexopt.py\", line 77, in <genexpr>\n",
      "    '|'.join(regex_opt_inner(list(group[1]), '')\n",
      "             ^^^^^^^^^^^^^^^^^^^^^^^^^^^^^^^^^^^\n",
      "  File \"C:\\ProgramData\\anaconda3\\Lib\\site-packages\\pygments\\regexopt.py\", line 77, in regex_opt_inner\n",
      "    '|'.join(regex_opt_inner(list(group[1]), '')\n",
      "  File \"C:\\ProgramData\\anaconda3\\Lib\\site-packages\\pygments\\regexopt.py\", line 77, in <genexpr>\n",
      "    '|'.join(regex_opt_inner(list(group[1]), '')\n",
      "             ^^^^^^^^^^^^^^^^^^^^^^^^^^^^^^^^^^^\n",
      "  File \"C:\\ProgramData\\anaconda3\\Lib\\site-packages\\pygments\\regexopt.py\", line 63, in regex_opt_inner\n",
      "    + regex_opt_inner([s[plen:] for s in strings], '(?:') \\\n",
      "      ^^^^^^^^^^^^^^^^^^^^^^^^^^^^^^^^^^^^^^^^^^^^^^^^^^^\n",
      "  File \"C:\\ProgramData\\anaconda3\\Lib\\site-packages\\pygments\\regexopt.py\", line 77, in regex_opt_inner\n",
      "    '|'.join(regex_opt_inner(list(group[1]), '')\n",
      "  File \"C:\\ProgramData\\anaconda3\\Lib\\site-packages\\pygments\\regexopt.py\", line 77, in <genexpr>\n",
      "    '|'.join(regex_opt_inner(list(group[1]), '')\n",
      "             ^^^^^^^^^^^^^^^^^^^^^^^^^^^^^^^^^^^\n",
      "  File \"C:\\ProgramData\\anaconda3\\Lib\\site-packages\\pygments\\regexopt.py\", line 77, in regex_opt_inner\n",
      "    '|'.join(regex_opt_inner(list(group[1]), '')\n",
      "  File \"C:\\ProgramData\\anaconda3\\Lib\\site-packages\\pygments\\regexopt.py\", line 77, in <genexpr>\n",
      "    '|'.join(regex_opt_inner(list(group[1]), '')\n",
      "             ^^^^^^^^^^^^^^^^^^^^^^^^^^^^^^^^^^^\n",
      "  File \"C:\\ProgramData\\anaconda3\\Lib\\site-packages\\pygments\\regexopt.py\", line 77, in regex_opt_inner\n",
      "    '|'.join(regex_opt_inner(list(group[1]), '')\n",
      "  File \"C:\\ProgramData\\anaconda3\\Lib\\site-packages\\pygments\\regexopt.py\", line 77, in <genexpr>\n",
      "    '|'.join(regex_opt_inner(list(group[1]), '')\n",
      "            ^^^^^^^^^^^^^^^^^^^^^^^^^^^^^^^^^^^^\n",
      "  File \"C:\\ProgramData\\anaconda3\\Lib\\site-packages\\pygments\\regexopt.py\", line 78, in <lambda>\n",
      "    for group in groupby(strings, lambda s: s[0] == first[0])) \\\n",
      "                                            ^^^^^^^^^^^^^^^^\n",
      "RecursionError: maximum recursion depth exceeded in comparison\n",
      "\n",
      "The above exception was the direct cause of the following exception:\n",
      "\n",
      "Traceback (most recent call last):\n",
      "  File \"C:\\ProgramData\\anaconda3\\Lib\\site-packages\\IPython\\core\\interactiveshell.py\", line 2144, in showtraceback\n",
      "    stb = self.InteractiveTB.structured_traceback(\n",
      "          ^^^^^^^^^^^^^^^^^^^^^^^^^^^^^^^^^^^^^^^^\n",
      "  File \"C:\\ProgramData\\anaconda3\\Lib\\site-packages\\IPython\\core\\ultratb.py\", line 1435, in structured_traceback\n",
      "    return FormattedTB.structured_traceback(\n",
      "           ^^^^^^^^^^^^^^^^^^^^^^^^^^^^^^^^^\n",
      "  File \"C:\\ProgramData\\anaconda3\\Lib\\site-packages\\IPython\\core\\ultratb.py\", line 1326, in structured_traceback\n",
      "    return VerboseTB.structured_traceback(\n",
      "           ^^^^^^^^^^^^^^^^^^^^^^^^^^^^^^^\n",
      "  File \"C:\\ProgramData\\anaconda3\\Lib\\site-packages\\IPython\\core\\ultratb.py\", line 1173, in structured_traceback\n",
      "    formatted_exception = self.format_exception_as_a_whole(etype, evalue, etb, number_of_lines_of_context,\n",
      "                          ^^^^^^^^^^^^^^^^^^^^^^^^^^^^^^^^^^^^^^^^^^^^^^^^^^^^^^^^^^^^^^^^^^^^^^^^^^^^^^^^\n",
      "  File \"C:\\ProgramData\\anaconda3\\Lib\\site-packages\\IPython\\core\\ultratb.py\", line 1088, in format_exception_as_a_whole\n",
      "    frames.append(self.format_record(record))\n",
      "                  ^^^^^^^^^^^^^^^^^^^^^^^^^^\n",
      "  File \"C:\\ProgramData\\anaconda3\\Lib\\site-packages\\IPython\\core\\ultratb.py\", line 969, in format_record\n",
      "    _format_traceback_lines(\n",
      "  File \"C:\\ProgramData\\anaconda3\\Lib\\site-packages\\IPython\\core\\ultratb.py\", line 215, in _format_traceback_lines\n",
      "    line = stack_line.render(pygmented=has_colors).rstrip('\\n') + '\\n'\n",
      "           ^^^^^^^^^^^^^^^^^^^^^^^^^^^^^^^^^^^^^^^\n",
      "  File \"C:\\ProgramData\\anaconda3\\Lib\\site-packages\\stack_data\\core.py\", line 360, in render\n",
      "    start_line, lines = self.frame_info._pygmented_scope_lines\n",
      "                        ^^^^^^^^^^^^^^^^^^^^^^^^^^^^^^^^^^^^^^\n",
      "  File \"C:\\ProgramData\\anaconda3\\Lib\\site-packages\\stack_data\\utils.py\", line 145, in cached_property_wrapper\n",
      "    value = obj.__dict__[self.func.__name__] = self.func(obj)\n",
      "                                               ^^^^^^^^^^^^^^\n",
      "  File \"C:\\ProgramData\\anaconda3\\Lib\\site-packages\\stack_data\\core.py\", line 780, in _pygmented_scope_lines\n",
      "    lines = _pygmented_with_ranges(formatter, code, ranges)\n",
      "            ^^^^^^^^^^^^^^^^^^^^^^^^^^^^^^^^^^^^^^^^^^^^^^^\n",
      "  File \"C:\\ProgramData\\anaconda3\\Lib\\site-packages\\stack_data\\utils.py\", line 155, in _pygmented_with_ranges\n",
      "    class MyLexer(type(get_lexer_by_name(\"python3\"))):\n",
      "                       ^^^^^^^^^^^^^^^^^^^^^^^^^^^^\n",
      "  File \"C:\\ProgramData\\anaconda3\\Lib\\site-packages\\pygments\\lexers\\__init__.py\", line 126, in get_lexer_by_name\n",
      "    return _lexer_cache[name](**options)\n",
      "           ^^^^^^^^^^^^^^^^^^^^^^^^^^^^^\n",
      "  File \"C:\\ProgramData\\anaconda3\\Lib\\site-packages\\pygments\\lexer.py\", line 641, in __call__\n",
      "    cls._tokens = cls.process_tokendef('', cls.get_tokendefs())\n",
      "                  ^^^^^^^^^^^^^^^^^^^^^^^^^^^^^^^^^^^^^^^^^^^^^\n",
      "  File \"C:\\ProgramData\\anaconda3\\Lib\\site-packages\\pygments\\lexer.py\", line 580, in process_tokendef\n",
      "    cls._process_state(tokendefs, processed, state)\n",
      "  File \"C:\\ProgramData\\anaconda3\\Lib\\site-packages\\pygments\\lexer.py\", line 543, in _process_state\n",
      "    tokens.extend(cls._process_state(unprocessed, processed,\n",
      "                  ^^^^^^^^^^^^^^^^^^^^^^^^^^^^^^^^^^^^^^^^^^\n",
      "  File \"C:\\ProgramData\\anaconda3\\Lib\\site-packages\\pygments\\lexer.py\", line 543, in _process_state\n",
      "    tokens.extend(cls._process_state(unprocessed, processed,\n",
      "                  ^^^^^^^^^^^^^^^^^^^^^^^^^^^^^^^^^^^^^^^^^^\n",
      "  File \"C:\\ProgramData\\anaconda3\\Lib\\site-packages\\pygments\\lexer.py\", line 561, in _process_state\n",
      "    raise ValueError(\"uncompilable regex %r in state %r of %r: %s\" %\n",
      "ValueError: uncompilable regex <pygments.lexer.words object at 0x0000023188731610> in state 'builtins' of <class 'pygments.lexers.python.PythonLexer'>: maximum recursion depth exceeded in comparison\n"
     ]
    }
   ],
   "source": [
    "import sys        # imported sys module\n",
    "\n",
    "sys.setrecursionlimit(100)     # this func will allow us to set manual limit of recursion\n",
    "\n",
    "print(sys.getrecursionlimit())    # it will give recursion limit\n",
    "\n",
    "i = 0\n",
    "\n",
    "def hi():\n",
    "    global i       # Global keyword to use variable i from outside of func\n",
    "    i += 1         # counter i increment\n",
    "    print('Hi',i)\n",
    "    hi()           # hi() func calling itself again and again\n",
    "    \n",
    "hi()"
   ]
  },
  {
   "cell_type": "markdown",
   "metadata": {},
   "source": [
    "## Factorial using Recursion"
   ]
  },
  {
   "cell_type": "code",
   "execution_count": 85,
   "metadata": {},
   "outputs": [
    {
     "data": {
      "text/plain": [
       "120"
      ]
     },
     "execution_count": 85,
     "metadata": {},
     "output_type": "execute_result"
    }
   ],
   "source": [
    "def fact(n):\n",
    "    \n",
    "    if n == 0:          # condition for factorial of zero (0)\n",
    "        return 1        # value of zero factorial\n",
    "    \n",
    "    return n * fact(n-1)         # formula for factorial\n",
    "\n",
    "fact(5)\n",
    "    "
   ]
  },
  {
   "cell_type": "markdown",
   "metadata": {},
   "source": [
    "## Lambda Function\n",
    "\n",
    "1. A lambda function is a small anonymous function.\n",
    "2. A lambda function can take any number of arguments, but can only have one expression.\n",
    "\n",
    "```Syntax: ``` lambda arguments : expression\n",
    "\n"
   ]
  },
  {
   "cell_type": "code",
   "execution_count": 2,
   "metadata": {},
   "outputs": [
    {
     "name": "stdout",
     "output_type": "stream",
     "text": [
      "16\n",
      "10\n"
     ]
    }
   ],
   "source": [
    "# Topic - 1\n",
    "\n",
    "square = lambda a: a * a           # expression using lambda --- square of number\n",
    "\n",
    "result = square(4)       # calling function and storing in variable\n",
    "\n",
    "print(result)\n",
    "\n",
    "\n",
    "# Topic - 2\n",
    "\n",
    "sum = lambda a,b : a + b         # expression using lambda --- sum of number\n",
    "\n",
    "add = sum(4,6)         # calling function and storing in variable\n",
    "\n",
    "print(add)"
   ]
  },
  {
   "cell_type": "code",
   "execution_count": 4,
   "metadata": {},
   "outputs": [
    {
     "name": "stdout",
     "output_type": "stream",
     "text": [
      "15\n",
      "5\n"
     ]
    }
   ],
   "source": [
    "# Topic - 3\n",
    "\n",
    "add_sub = lambda a, b : (a+b, a-b)\n",
    "\n",
    "i, j = add_sub(10,5) \n",
    "\n",
    "print(i)\n",
    "print(j)"
   ]
  },
  {
   "cell_type": "markdown",
   "metadata": {},
   "source": [
    "## Filter( ) Function\n",
    "\n",
    "The filter() method filters the given sequence with the help of a function that tests each element in the sequence to be true or not.\n",
    "\n",
    "```Syntax :``` filter(function, sequence)\n",
    "- Parameters:\n",
    "  1. function: function that tests if each element of a \n",
    "sequence true or not. \n",
    "  2. sequence: sequence which needs to be filtered, it can \n",
    "be sets, lists, tuples, or containers of any iterators.\n",
    "- Returns: returns an iterator that is already filtered.\n"
   ]
  },
  {
   "cell_type": "code",
   "execution_count": 6,
   "metadata": {},
   "outputs": [
    {
     "ename": "TypeError",
     "evalue": "'<=' not supported between instances of 'list' and 'int'",
     "output_type": "error",
     "traceback": [
      "\u001b[1;31m---------------------------------------------------------------------------\u001b[0m",
      "\u001b[1;31mTypeError\u001b[0m                                 Traceback (most recent call last)",
      "\u001b[1;32m<ipython-input-6-2d7b9db70381>\u001b[0m in \u001b[0;36m<module>\u001b[1;34m\u001b[0m\n\u001b[0;32m      8\u001b[0m             \u001b[1;32mreturn\u001b[0m \u001b[1;34m'not good'\u001b[0m\u001b[1;33m\u001b[0m\u001b[1;33m\u001b[0m\u001b[0m\n\u001b[0;32m      9\u001b[0m \u001b[1;33m\u001b[0m\u001b[0m\n\u001b[1;32m---> 10\u001b[1;33m \u001b[0mcount\u001b[0m\u001b[1;33m(\u001b[0m\u001b[0mage\u001b[0m\u001b[1;33m)\u001b[0m\u001b[1;33m\u001b[0m\u001b[1;33m\u001b[0m\u001b[0m\n\u001b[0m\u001b[0;32m     11\u001b[0m \u001b[1;33m\u001b[0m\u001b[0m\n",
      "\u001b[1;32m<ipython-input-6-2d7b9db70381>\u001b[0m in \u001b[0;36mcount\u001b[1;34m(x)\u001b[0m\n\u001b[0;32m      3\u001b[0m \u001b[1;32mdef\u001b[0m \u001b[0mcount\u001b[0m\u001b[1;33m(\u001b[0m\u001b[0mx\u001b[0m\u001b[1;33m)\u001b[0m\u001b[1;33m:\u001b[0m\u001b[1;33m\u001b[0m\u001b[1;33m\u001b[0m\u001b[0m\n\u001b[0;32m      4\u001b[0m     \u001b[1;32mfor\u001b[0m \u001b[0mi\u001b[0m \u001b[1;32min\u001b[0m \u001b[0mage\u001b[0m\u001b[1;33m:\u001b[0m\u001b[1;33m\u001b[0m\u001b[1;33m\u001b[0m\u001b[0m\n\u001b[1;32m----> 5\u001b[1;33m         \u001b[1;32mif\u001b[0m \u001b[0mx\u001b[0m \u001b[1;33m<=\u001b[0m \u001b[1;36m18\u001b[0m\u001b[1;33m:\u001b[0m\u001b[1;33m\u001b[0m\u001b[1;33m\u001b[0m\u001b[0m\n\u001b[0m\u001b[0;32m      6\u001b[0m             \u001b[1;32mreturn\u001b[0m \u001b[1;34m'good'\u001b[0m\u001b[1;33m\u001b[0m\u001b[1;33m\u001b[0m\u001b[0m\n\u001b[0;32m      7\u001b[0m         \u001b[1;32melse\u001b[0m\u001b[1;33m:\u001b[0m\u001b[1;33m\u001b[0m\u001b[1;33m\u001b[0m\u001b[0m\n",
      "\u001b[1;31mTypeError\u001b[0m: '<=' not supported between instances of 'list' and 'int'"
     ]
    }
   ],
   "source": [
    "\n",
    "age = [15,20,51,46,28,10,17]\n",
    "\n",
    "def count(x):\n",
    "    for i in age:\n",
    "        if x <= 18:\n",
    "            return 'good'\n",
    "        else:\n",
    "            return 'not good'\n",
    "\n",
    "count(age)\n",
    "        "
   ]
  },
  {
   "cell_type": "code",
   "execution_count": 13,
   "metadata": {},
   "outputs": [
    {
     "name": "stdout",
     "output_type": "stream",
     "text": [
      "18\n",
      "24\n",
      "32\n"
     ]
    }
   ],
   "source": [
    "ages = [5, 12, 17, 18, 24, 32]\n",
    "\n",
    "def myFunc(x):\n",
    "  if x < 18:\n",
    "    return False\n",
    "  else:\n",
    "    return True\n",
    "\n",
    "\n",
    "adults = filter(myFunc, ages)\n",
    "# print(adults)\n",
    " \n",
    "for x in adults:\n",
    "  print(x)\n"
   ]
  },
  {
   "cell_type": "code",
   "execution_count": null,
   "metadata": {},
   "outputs": [],
   "source": []
  },
  {
   "cell_type": "code",
   "execution_count": null,
   "metadata": {},
   "outputs": [],
   "source": []
  }
 ],
 "metadata": {
  "celltoolbar": "Raw Cell Format",
  "kernelspec": {
   "display_name": "Python 3 (ipykernel)",
   "language": "python",
   "name": "python3"
  },
  "language_info": {
   "codemirror_mode": {
    "name": "ipython",
    "version": 3
   },
   "file_extension": ".py",
   "mimetype": "text/x-python",
   "name": "python",
   "nbconvert_exporter": "python",
   "pygments_lexer": "ipython3",
   "version": "3.11.7"
  }
 },
 "nbformat": 4,
 "nbformat_minor": 4
}
